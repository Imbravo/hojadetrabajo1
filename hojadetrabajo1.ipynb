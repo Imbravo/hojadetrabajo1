{
 "cells": [
  {
   "cell_type": "markdown",
   "source": [
    "# JUPYTER NOTEBOOKS, MARKDOWN Y GIT"
   ],
   "metadata": {
    "collapsed": false,
    "pycharm": {
     "name": "#%% md\n"
    }
   }
  },
  {
   "cell_type": "markdown",
   "source": [
    "## Jesus Ponte\n",
    "## 23002672"
   ],
   "metadata": {
    "collapsed": false,
    "pycharm": {
     "name": "#%% md\n"
    }
   }
  },
  {
   "cell_type": "markdown",
   "source": [
    "<center><h3>Practicando Markdown y Git</h3></center>"
   ],
   "metadata": {
    "collapsed": false,
    "pycharm": {
     "name": "#%% md\n"
    }
   }
  },
  {
   "cell_type": "markdown",
   "source": [
    "Los sistemas de control de versiones(VCS), es una herramienta que le permite a los desarrolladores mantener y seguir los cambios que se realiza al codigo fuente de un proyecto. Habilita la posibilidad de mantener diferentes versiones del codigo, colaborar con otras personas del equipo y revertir cambios como sea necesario"
   ],
   "metadata": {
    "collapsed": false,
    "pycharm": {
     "name": "#%% md\n"
    }
   }
  },
  {
   "cell_type": "markdown",
   "source": [
    "Es importante el manejo de los proyectos usando un VCS por las siguientes razones:\n",
    "1.  **Historial**: cada cambio que se realiza a un archivo es guardado, por lo que permite tener un historico de cambios que es necesario si se necesita revertir en caso necesario.\n",
    "2. **Colaboración**: permite trabajar en equipo de manera eficiente, permitiendo a diferentes desarrolladores trabajar en el mismo codigo fuente, siendo el sistema el que resuelve los conflictos al momento de unificar los desarrollos.\n",
    "3. **Ramas**: los VCS permiten la creación de ramas las cuales son copias de la fuente original, lo que permite experimentar y hacer cambios sin afectar la rama principal.\n",
    "4. **Backups**: en caso de que algúna modificación cree algún problema en el codigo fuente, los VCS permiten volver a un periodo anteriormente funcional, evitando así la perdida del trabajo efectuado."
   ],
   "metadata": {
    "collapsed": false,
    "pycharm": {
     "name": "#%% md\n"
    }
   }
  },
  {
   "cell_type": "markdown",
   "source": [
    "<center><h3>Git</h3></center>"
   ],
   "metadata": {
    "collapsed": false,
    "pycharm": {
     "name": "#%% md\n"
    }
   }
  },
  {
   "cell_type": "markdown",
   "source": [
    "\n",
    "<center><img src='Git-Logo.jpg' width=\"600\" height=\"400\"></center>"
   ],
   "metadata": {
    "collapsed": false,
    "pycharm": {
     "name": "#%% md\n"
    }
   }
  },
  {
   "cell_type": "markdown",
   "source": [
    "Git es un VCS que como herramienta les da capacidades a los desarrolladores para realizar proyectos de forma colaborativa de una forma sencilla. Como VCS nos da las siguientes capacidades.\n",
    "* Tracking de los cambios a los archivos y directorios de un proyecto, permitiendo conocer quien y qué cambio se realizó.\n",
    "* Permite la creación de multiples ramas para permitir el desarrollo paralelo por diferentes colaboradores y la unión de diferentes ramas en una sola.\n",
    "* Ofrece la seguridad necesaria para la protección ante usuarios no autorizados.\n",
    "\n"
   ],
   "metadata": {
    "collapsed": false,
    "pycharm": {
     "name": "#%% md\n"
    }
   }
  },
  {
   "cell_type": "markdown",
   "source": [
    "Como comandos básicos de Git se pueden utilizar los siguientes para iniciar un proyecto:"
   ],
   "metadata": {
    "collapsed": false,
    "pycharm": {
     "name": "#%% md\n"
    }
   }
  },
  {
   "cell_type": "markdown",
   "source": [
    "Comando | Explicación\n",
    "------------ | -------------\n",
    "git init | Inicializa un nuevo repositorio de Git en el directorio.\n",
    "git add <file> | Añade un archivo al area de trabajo\n",
    "git commit -m \"<message> | Realiza los cambios realizados al repositorio local con un mensaje descriptivo.\n",
    "git status | Muestra el status del repositorio, con los archivos que han sido modificados, añadidos o eliminados.\n",
    "git log | Muestra todos los cambios realizados en el repositorio\n",
    "git diff | Muestra las diferencias entre el repositorio local y el remoto\n",
    "git branch | Lista todas las ramas en el repositorio\n",
    "git checkout <branch> | Cambia la rama local a la seleccionada\n",
    "git merge <branch> | Une la rama especificada a la rama actual.\n",
    "git push | Realiza los cambios al repositorio remoto\n",
    "git pull | Obtiene y une los cambios desde un repositorio remoto\n",
    "git clone <url> | Crea una copia local de un repositorio remoto\n",
    "git remote add <name> <url> | Crea un nuevo repositorio remoto con el nombre y url especificado\n",
    "git remote -v | Lista todos los repositorios y sus urls\n",
    "\n"
   ],
   "metadata": {
    "collapsed": false,
    "pycharm": {
     "name": "#%% md\n"
    }
   }
  },
  {
   "cell_type": "markdown",
   "source": [
    "Añadiendo a Git, existen numerosas herramientas que permiten la integración con diferentes VCS, lo cual facilita el uso de los repositorios y permite ver visualmente las ramas que están activas y sus uniones con otras."
   ],
   "metadata": {
    "collapsed": false,
    "pycharm": {
     "name": "#%% md\n"
    }
   }
  },
  {
   "cell_type": "markdown",
   "source": [
    "### Sourcetree"
   ],
   "metadata": {
    "collapsed": false,
    "pycharm": {
     "name": "#%% md\n"
    }
   }
  },
  {
   "cell_type": "markdown",
   "source": [
    "SourceTree se puede definir como un Git GUI, en donde se puede observar visualmente todos los cambios, ramas, repositorios y colaboradores en una misma herramienta visual. Esto le permite a las personas que no están tan familiarizadas con la linea de comandos, realizar todas las operaciones necesarias para llevar a cabo un proyecto con un VCS."
   ],
   "metadata": {
    "collapsed": false,
    "pycharm": {
     "name": "#%% md\n"
    }
   }
  },
  {
   "cell_type": "markdown",
   "source": [
    "<center><img src='gitbranches.png' width=\"350\" height=\"250\"></center>"
   ],
   "metadata": {
    "collapsed": false,
    "pycharm": {
     "name": "#%% md\n"
    }
   }
  },
  {
   "cell_type": "markdown",
   "source": [],
   "metadata": {
    "collapsed": false,
    "pycharm": {
     "name": "#%% md\n"
    }
   }
  }
 ],
 "metadata": {
  "kernelspec": {
   "display_name": "Python 3",
   "language": "python",
   "name": "python3"
  },
  "language_info": {
   "codemirror_mode": {
    "name": "ipython",
    "version": 2
   },
   "file_extension": ".py",
   "mimetype": "text/x-python",
   "name": "python",
   "nbconvert_exporter": "python",
   "pygments_lexer": "ipython2",
   "version": "2.7.6"
  }
 },
 "nbformat": 4,
 "nbformat_minor": 0
}